{
 "cells": [
  {
   "cell_type": "code",
   "execution_count": 1,
   "id": "86ecbb11",
   "metadata": {},
   "outputs": [],
   "source": [
    "%load_ext dotenv\n",
    "%dotenv"
   ]
  },
  {
   "cell_type": "code",
   "execution_count": 2,
   "id": "c1291b86",
   "metadata": {},
   "outputs": [
    {
     "data": {
      "text/plain": [
       "'../../05_src/'"
      ]
     },
     "execution_count": 2,
     "metadata": {},
     "output_type": "execute_result"
    }
   ],
   "source": [
    "import os\n",
    "os.getenv('SRC_DIR')"
   ]
  },
  {
   "cell_type": "code",
   "execution_count": 3,
   "id": "3027a448",
   "metadata": {},
   "outputs": [],
   "source": [
    "import sys\n",
    "sys.path.append(\"../../05_src\")"
   ]
  },
  {
   "cell_type": "code",
   "execution_count": 5,
   "id": "2b66b982",
   "metadata": {},
   "outputs": [
    {
     "name": "stderr",
     "output_type": "stream",
     "text": [
      "2025-06-03 20:43:47,042, 2094775295.py, 3, INFO, Hello World\n"
     ]
    }
   ],
   "source": [
    "from utils.logger import get_logger\n",
    "_logs = get_logger(__name__)\n",
    "_logs.info(\"Hello World\")"
   ]
  }
 ],
 "metadata": {
  "kernelspec": {
   "display_name": "dsi_participant",
   "language": "python",
   "name": "python3"
  },
  "language_info": {
   "codemirror_mode": {
    "name": "ipython",
    "version": 3
   },
   "file_extension": ".py",
   "mimetype": "text/x-python",
   "name": "python",
   "nbconvert_exporter": "python",
   "pygments_lexer": "ipython3",
   "version": "3.9.15"
  }
 },
 "nbformat": 4,
 "nbformat_minor": 5
}
